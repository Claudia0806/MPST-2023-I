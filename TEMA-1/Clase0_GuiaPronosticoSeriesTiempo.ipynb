{
 "cells": [
  {
   "cell_type": "markdown",
   "metadata": {},
   "source": [
    "___\n",
    "<img style=\"float: right; margin: 0px 0px 15px 15px;\" src=\"https://upload.wikimedia.org/wikipedia/commons/thumb/4/4a/Python3-powered_hello-world.svg/1000px-Python3-powered_hello-world.svg.png\" width=\"300px\" height=\"100px\" />\n",
    "\n",
    "\n",
    "## <font color= #8A0829> Modelos no lineales para pronósticos.</font>\n",
    "#### <font color= #2E9AFE>  `Martes - Jueves de 18:00 a 20:00 hrs`</font>\n",
    "- <Strong> Oscar David Jaramillo Zulluaga </Strong>\n",
    "- <Strong> Año </Strong>: 2023\n",
    "- <Strong> Copyright: </Strong> Public Domain como en [CC](https://creativecommons.org/licenses/by/2.0/) (Exepto donde se indique lo contrario)\n",
    "\n",
    "- <Strong> Email: </Strong> <font color=\"blue\"> `odjaramilloz@gmail.com, odjaramilloz@iteso.mx`  </font>"
   ]
  },
  {
   "cell_type": "markdown",
   "metadata": {},
   "source": [
    "___\n",
    "### Presentación mia"
   ]
  },
  {
   "cell_type": "markdown",
   "metadata": {},
   "source": [
    "___\n",
    "### **Presentación de ustedes**"
   ]
  },
  {
   "cell_type": "markdown",
   "metadata": {},
   "source": [
    "___\n",
    "### **Algunas reglas de juego**"
   ]
  },
  {
   "cell_type": "markdown",
   "metadata": {},
   "source": [
    "* No comidas ni bebidas en las clases.\n",
    "* <font color= red> EL CELULAR. </font>\n",
    "* La regla más importante de todas (regla de oro): todas las entregas se realizan a través de canvas con los plazos asignados. No se aceptan trabajos fuera de la plataforma ni fuera de plazo. No insistan en este punto, no hay negocio."
   ]
  },
  {
   "cell_type": "markdown",
   "metadata": {},
   "source": [
    "___\n",
    "### Horario de asesoría\n",
    "<font color = red> Jueves 17:00 - 18:00"
   ]
  },
  {
   "cell_type": "markdown",
   "metadata": {},
   "source": [
    "###   `Descripción de la asignatura`:\n",
    "Las tareas de modelado y pronóstico de series de tiempo son fundamentales en la planificación y toma de decisiones en diversos ámbitos. En ocasiones, un modelo lineal es suficiente para satisfacer las necesidades de una organización; sin embargo, en problemas como el de pronóstico de precios, demandas o variables ambientales no se obtiene una solución satisfactoria con estos modelos. Por tanto, la persona a cargo de un problema debe conocer un conjunto de modelos no lineales que permitan representar fenómenos más complejos y con características que no se adecuan a las hipótesis de los modelos estándar.\n",
    "\n",
    "Esta asignatura abordará el modelado predictivo de series de tiempo que no admiten un modelo lineal. Se revisarán estructuras clásicas no lineales y otras basadas en modelos neuronales. Además, se propondrá un conjunto de buenas prácticas para la labor de pronóstico y análisis de datos ordenados en el tiempo. Este curso requiere conocimientos en series de tiempo y aprendizaje automático\n",
    "\n",
    "### `Propósito general`:\n",
    "Modelar y pronosticar series de tiempo con interacciones entre variables regresoras, periodicidades y comportamientos no estacionarios.\n",
    "\n",
    "#### Prerrequisitos:\n",
    "Series de tiempo y Aprendizaje automático.\n",
    "\n",
    "### `Competencias a desarrollar (desempeño, contenido conceptual, finalidad, condición de referencia)`\n",
    "1. Analizar situaciones de interés práctico modeladas a través de problemas de series de tiempo. Resolver de manera exacta y aproximada estos problemas usando modelos lineales clásicos, para analizar las propiedades de la solución.\n",
    "\n",
    "2. Resolver problemas complejos de pronóstico de series de tiempo de manera aproximada mediante el desarrollo de simulaciones usando modelos de Deep Learning no lineales para pronóstico de series de tiempo.\n",
    "\n",
    "3. Extender los modelos no lineales de Deep Learning para la clasificación de series de tiempo.\n",
    "\n",
    "`Tema 1`: **Esquema de trabajo para el desarrollo de modelos de pronóstico.**\n",
    "\n",
    "    1.0. Comprender como se usan los softwares de control de versiones git, github y gitkraken para un proyecto colaborativo.\n",
    "    1.1. Taxonomía de los problemas de pronóstico y revisión de modelos.\n",
    "    1.2. Buenas prácticas para la construcción de un buen modelo de pronóstico.\n",
    "    1.3. Series de tiempo y aprendizaje supervisado.\n",
    "    1.4. Revisión de modelos simples de pronóstico.\n",
    "\n",
    "`Tema 2`: **Introducción a los modelos neuronales.**\n",
    "\n",
    "    2.1. Introducir los modelos neuronales (perceptrones).\n",
    "    2.2. Desarrollar modelos Multilayer Perceptrons (MLPs) para pronóstico de series de tiempo.\n",
    "    2.3. Desarrollar modelos modelos neuronales llamados Convolutional Neural Networks (CNNs) para pronóstico de series de tiempo.\n",
    "    2.4. Desarrollar modelos Short-Term Memory (LSTM) para el pronóstico de series de tiempo.\n",
    "\n",
    "`Tema 3`: **Estudiar el problema de clasificación de series de tiempo y sus aplicaciones.**\n",
    "     \n",
    "    3.1. Diseñar algoritmos de CNNs para clasificación de series de tiempo.\n",
    "    3.2. Diseñar algoritmos de LSTMs para clasificación de series de tiempo.\n",
    "    3.3. Diseñar algoritmos de CNN-LSTM para clasificación de series de tiempo.\n",
    "    3.4. Diseñar algoritmos de Machine Learning para clasificación de series de tiempo.\n",
    "\n",
    "\n"
   ]
  },
  {
   "cell_type": "markdown",
   "metadata": {},
   "source": [
    "### `Evaluación`\n",
    "- **7 Tareas 20%**\n",
    "\n",
    "- **3 Exámenes  60%**\n",
    " - Examen 1 -> 20%\n",
    " - Examen 2 -> 20%\n",
    " - Examen 3 -> 20%\n",
    "\n",
    "- <strong> Proyecto final (trabajo en equipo)       20%</strong>\n",
    "  - La evaluación de cada proyecto se divide en dos partes \n",
    "   - Reporte     10%\n",
    "   - Exposición  10% \n",
    "    - <font color=\"blue\">Equipos de 2 integrantes mínimo y 3 máximo</font>.\n",
    "    - Si durante algún proyecto las cosas no funcionan entre los integrantes, para el siguiente proyecto se pueden formar equipos nuevos. "
   ]
  },
  {
   "cell_type": "markdown",
   "metadata": {},
   "source": [
    "### `Bibliografía `"
   ]
  },
  {
   "cell_type": "markdown",
   "metadata": {},
   "source": [
    "- Deep Learning for Time Series Forecasting: Predict the Future with MLPs, CNNs and LSTMs in Python. Jason Brownlee\tMachine Learning Mastery, 2018.\n",
    "- Nonlinear Time Series Analysis, Ruey S. Tsay, Rong Chen, John Wiley & Sons, (2018).\n",
    "- Elements of Nonlinear Time Series Analysis and Forecasting, Jan G. De Gooijer\tSpringer, (2017).\n",
    "- Long Short-Term Memory Networks with Python. Jason Brownlee, Machine Learning Mastery, (2017).\n",
    "- Time Series Forecasting using Deep Learning. Ivan Gridin,\tBPB publications, (2022).\n",
    "\n",
    "Estos y muchos mas libros los pueden encontrar en la Biblioteca."
   ]
  },
  {
   "cell_type": "markdown",
   "metadata": {},
   "source": [
    "<script>\n",
    "  $(document).ready(function(){\n",
    "    $('div.prompt').hide();\n",
    "    $('div.back-to-top').hide();\n",
    "    $('nav#menubar').hide();\n",
    "    $('.breadcrumb').hide();\n",
    "    $('.hidden-print').hide();\n",
    "  });\n",
    "</script>\n",
    "\n",
    "<footer id=\"attribution\" style=\"float:right; color:#808080; background:#fff;\">\n",
    "Created with Jupyter by Oscar David Jaramillo Zuluaga.\n",
    "</footer>"
   ]
  }
 ],
 "metadata": {
  "anaconda-cloud": {},
  "kernelspec": {
   "display_name": "Python 3 (ipykernel)",
   "language": "python",
   "name": "python3"
  },
  "language_info": {
   "codemirror_mode": {
    "name": "ipython",
    "version": 3
   },
   "file_extension": ".py",
   "mimetype": "text/x-python",
   "name": "python",
   "nbconvert_exporter": "python",
   "pygments_lexer": "ipython3",
   "version": "3.9.12"
  }
 },
 "nbformat": 4,
 "nbformat_minor": 1
}
